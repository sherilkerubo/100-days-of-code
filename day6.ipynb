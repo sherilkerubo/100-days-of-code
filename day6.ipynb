{
  "nbformat": 4,
  "nbformat_minor": 0,
  "metadata": {
    "colab": {
      "provenance": []
    },
    "kernelspec": {
      "name": "python3",
      "display_name": "Python 3"
    },
    "language_info": {
      "name": "python"
    }
  },
  "cells": [
    {
      "cell_type": "code",
      "execution_count": null,
      "metadata": {
        "id": "L2rW8cfOEWIF"
      },
      "outputs": [],
      "source": [
        "def turn_right():\n",
        "    turn_left()\n",
        "    turn_left()\n",
        "    turn_left()\n",
        "def turn_around():\n",
        "    turn_left()\n",
        "    turn_left()\n",
        "\n",
        "\n",
        "#hurdles challenge\n",
        "#def jump():\n",
        "   # turn_left()\n",
        "   # while wall_on_right():\n",
        "    #    move()\n",
        "    #turn_right()\n",
        "    #move()\n",
        "    #turn_right()\n",
        "   # while front_is_clear():\n",
        "     #  move()\n",
        "  #  turn_left()\n",
        "#while not at_goal():\n",
        "   # if wall_in_front():\n",
        "      #  jump()\n",
        "   # else:\n",
        "         #move()\n",
        "    #maze\n",
        "def jump():\n",
        "\n",
        "    while right_is_clear():\n",
        "        turn_right()\n",
        "        move()\n",
        "    while front_is_clear()and wall_on_right():\n",
        "\n",
        "        move()\n",
        "    while wall_in_front() and wall_on_right():\n",
        "        turn_left()\n",
        "\n",
        "while not at_goal():\n",
        "    jump()\n",
        "\n",
        "\n",
        "\n",
        "\n",
        "\n",
        "\n",
        "\n",
        "\n",
        "\n",
        "\n",
        "\n",
        "\n",
        "\n",
        "\n",
        "\n",
        "\n",
        "\n",
        "\n",
        "\n",
        "#for hurdle in range(1,7):\n",
        "#jump()\n",
        "\n",
        "\n",
        "\n",
        "\n",
        "\n",
        "\n",
        "\n",
        "\n"
      ]
    }
  ]
}