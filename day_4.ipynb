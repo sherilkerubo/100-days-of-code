{
  "nbformat": 4,
  "nbformat_minor": 0,
  "metadata": {
    "colab": {
      "provenance": []
    },
    "kernelspec": {
      "name": "python3",
      "display_name": "Python 3"
    },
    "language_info": {
      "name": "python"
    }
  },
  "cells": [
    {
      "cell_type": "code",
      "execution_count": null,
      "metadata": {
        "id": "DPqjw_tAqBR7",
        "colab": {
          "base_uri": "https://localhost:8080/"
        },
        "outputId": "47fada95-c560-4064-b117-0b50e0d4ce02"
      },
      "outputs": [
        {
          "output_type": "stream",
          "name": "stdout",
          "text": [
            "4\n"
          ]
        }
      ],
      "source": [
        "import random\n",
        "#returns a random integer\n",
        "random_integer= random.randint(1,10)\n",
        "print(random_integer)"
      ]
    },
    {
      "cell_type": "code",
      "source": [
        "#returning a random float 0.0000000-0.999999999999\n",
        "random_float=random.random()\n",
        "print(random_float)\n"
      ],
      "metadata": {
        "colab": {
          "base_uri": "https://localhost:8080/"
        },
        "id": "Baqowv1-yJAp",
        "outputId": "f44fb09f-503b-4fbd-a7f9-f9db1b25b81a"
      },
      "execution_count": null,
      "outputs": [
        {
          "output_type": "stream",
          "name": "stdout",
          "text": [
            "0.6292487569898507\n"
          ]
        }
      ]
    },
    {
      "cell_type": "code",
      "source": [
        "#getting a rondom float btn1-5\n",
        "print(random_float*5)"
      ],
      "metadata": {
        "colab": {
          "base_uri": "https://localhost:8080/"
        },
        "id": "fFEKcDL7ygYO",
        "outputId": "18dd099a-0a3a-48c5-b883-976cd3648a68"
      },
      "execution_count": null,
      "outputs": [
        {
          "output_type": "stream",
          "name": "stdout",
          "text": [
            "3.1462437849492537\n"
          ]
        }
      ]
    },
    {
      "cell_type": "code",
      "source": [
        "love_score=random.randint(1,100)\n",
        "print(f\"your love score is {love_score}\")"
      ],
      "metadata": {
        "colab": {
          "base_uri": "https://localhost:8080/"
        },
        "id": "a-ofTQ_hzEoH",
        "outputId": "4442f401-ff97-4254-9ce2-6df7b59ed05c"
      },
      "execution_count": null,
      "outputs": [
        {
          "output_type": "stream",
          "name": "stdout",
          "text": [
            "your love score is 66\n"
          ]
        }
      ]
    },
    {
      "cell_type": "code",
      "source": [
        "#virtual cointoss program\n",
        "import random\n",
        "side=random.randint(0,5)\n",
        "if side%2==0:\n",
        "  print(\"heads\")\n",
        "else:\n",
        "  print(\"tails\")\n"
      ],
      "metadata": {
        "colab": {
          "base_uri": "https://localhost:8080/"
        },
        "id": "w0gvj5c7zknU",
        "outputId": "19dfe31e-300a-480c-e8f7-985d98ac50b3"
      },
      "execution_count": null,
      "outputs": [
        {
          "output_type": "stream",
          "name": "stdout",
          "text": [
            "tails\n"
          ]
        }
      ]
    },
    {
      "cell_type": "markdown",
      "source": [
        "Lists"
      ],
      "metadata": {
        "id": "4Ad4R7zI1RPi"
      }
    },
    {
      "cell_type": "code",
      "source": [
        "states_of_america=[\"delaware\",\"Penssylvania\",\"New Jersey\"]\n",
        "print(states_of_america[0])"
      ],
      "metadata": {
        "colab": {
          "base_uri": "https://localhost:8080/"
        },
        "id": "niLpvxPK1S3q",
        "outputId": "d472c0dc-bb3d-4453-cfe1-5e472324b28a"
      },
      "execution_count": null,
      "outputs": [
        {
          "output_type": "stream",
          "name": "stdout",
          "text": [
            "delaware\n"
          ]
        }
      ]
    },
    {
      "cell_type": "code",
      "source": [
        "#negative index starts counting from the end of the list\n",
        "print(states_of_america[-1])\n"
      ],
      "metadata": {
        "colab": {
          "base_uri": "https://localhost:8080/"
        },
        "id": "Za3XWxSQ209i",
        "outputId": "aa0e2375-2184-4cc5-d328-2471ced5ed0e"
      },
      "execution_count": null,
      "outputs": [
        {
          "output_type": "stream",
          "name": "stdout",
          "text": [
            "New Jersey\n"
          ]
        }
      ]
    },
    {
      "cell_type": "code",
      "source": [
        "#changing content in a list\n",
        "states_of_america[2]=\"Newhampshire\"\n",
        "print(states_of_america)"
      ],
      "metadata": {
        "colab": {
          "base_uri": "https://localhost:8080/"
        },
        "id": "DyxGydpE3FAD",
        "outputId": "770fe7bd-dd91-438e-bcc0-948e44bbbd6c"
      },
      "execution_count": null,
      "outputs": [
        {
          "output_type": "stream",
          "name": "stdout",
          "text": [
            "['delaware', 'Penssylvania', 'Newhampshire']\n"
          ]
        }
      ]
    },
    {
      "cell_type": "code",
      "source": [
        "#adding to a list\n",
        "states_of_america.append(\"New York\")\n",
        "print(states_of_america)\n"
      ],
      "metadata": {
        "colab": {
          "base_uri": "https://localhost:8080/"
        },
        "id": "yOafH4Xu3k08",
        "outputId": "116286b6-6e72-43af-e92d-a7c2e90031de"
      },
      "execution_count": null,
      "outputs": [
        {
          "output_type": "stream",
          "name": "stdout",
          "text": [
            "['delaware', 'Penssylvania', 'Newhampshire', 'New York']\n"
          ]
        }
      ]
    },
    {
      "cell_type": "code",
      "source": [
        "states_of_america.extend([\"New York\",\"North Dakoda\"])\n",
        "print(states_of_america)"
      ],
      "metadata": {
        "colab": {
          "base_uri": "https://localhost:8080/"
        },
        "id": "cK8MkB8s4O4Z",
        "outputId": "9a099480-8977-4ce1-8d6d-8462dde5ff8c"
      },
      "execution_count": null,
      "outputs": [
        {
          "output_type": "stream",
          "name": "stdout",
          "text": [
            "['delaware', 'Penssylvania', 'Newhampshire', 'New York', 'New York', 'North Dakoda']\n"
          ]
        }
      ]
    },
    {
      "cell_type": "code",
      "source": [
        "names_string=input(\"enter the names of customers separated by comas and a space\")\n",
        "names=names_string.split(\",\")\n",
        "print(names)"
      ],
      "metadata": {
        "colab": {
          "base_uri": "https://localhost:8080/"
        },
        "id": "QAOJPyKa40bF",
        "outputId": "91001cf0-d337-4b61-d2c5-592f8924d476"
      },
      "execution_count": null,
      "outputs": [
        {
          "output_type": "stream",
          "name": "stdout",
          "text": [
            "enter the names of customers separated by comas and a spaceron, harry, penny\n",
            "['ron', ' harry', ' penny']\n"
          ]
        }
      ]
    },
    {
      "cell_type": "code",
      "source": [
        "#random_name=random.choice(names)\n",
        "#print(random_name)\n",
        "print(len(names))\n",
        "number=random.randint(0,3)\n",
        "person_paying=names[number]\n",
        "print(person_paying+ \" is paying for the meal\")\n"
      ],
      "metadata": {
        "colab": {
          "base_uri": "https://localhost:8080/"
        },
        "id": "qgMjXYUl6_m0",
        "outputId": "d28f4887-f010-488f-ae7f-d3128aaf807e"
      },
      "execution_count": null,
      "outputs": [
        {
          "output_type": "stream",
          "name": "stdout",
          "text": [
            "3\n",
            " penny is paying for the meal\n"
          ]
        }
      ]
    },
    {
      "cell_type": "code",
      "source": [
        "#dirty_dozen=[\"strawberries\",\"spinach\",\"kale\",\"nectarines\",\"apples\",\"grapes\",\"peaches\",\"cherries\",\"pears\",\"Tomatoes\",\"celery\",\"potatoes\"]\n",
        "fruits=[\"strawberries\",\"nectatrines\",\"apples\",\"grapes\",\"peaches\",\"cherries\",\"tomatoes\",\"pears\"]\n",
        "vegetables=[\"spinach\",\"kale\",\"celery\",\"potatoes\"]\n",
        "dirty_dozen=[fruits, vegetables]\n",
        "print(dirty_dozen)"
      ],
      "metadata": {
        "colab": {
          "base_uri": "https://localhost:8080/"
        },
        "id": "OIzWbu3h-z9H",
        "outputId": "2e39cd71-6430-4e44-a23c-8ad88634e68c"
      },
      "execution_count": null,
      "outputs": [
        {
          "output_type": "stream",
          "name": "stdout",
          "text": [
            "[['strawberries', 'nectatrines', 'apples', 'grapes', 'peaches', 'cherries', 'tomatoes', 'pears'], ['spinach', 'kale', 'celery', 'potatoes']]\n"
          ]
        }
      ]
    },
    {
      "cell_type": "code",
      "source": [
        "row1=[\"😀\", \"😄\",\"😁\"]\n",
        "row2=[\"😆\",\"😅\" ,\"😂\"]\n",
        "row3=[\"😫\", \"😩\", \"🥺\"]\n",
        "map=[row1,row2,row3]\n",
        "print(f\"{row1}\\n{row2}\\n{row3}\")\n",
        "position=input(\"where do you want to put the treasure? \")\n",
        "if position==\"11\":\n",
        "  row1[0]=\"x\"\n",
        "elif position==\"12\":\n",
        "  row1[1]=\"x\"\n",
        "elif position==\"13\":\n",
        "  row1[2]=\"x\"\n",
        "elif position==\"21\":\n",
        "   row2[0]=\"x\"\n",
        "elif position==\"22\":\n",
        "  row2[1]=\"x\"\n",
        "elif position==\"23\":\n",
        "  row2[2]=\"x\"\n",
        "elif position==\"31\":\n",
        "   row3[0]=\"x\"\n",
        "elif position==\"32\":\n",
        "  row3[1]=\"x\"\n",
        "elif position==\"33\":\n",
        "  row3[2]=\"x\"\n",
        "\n",
        "print(f\"your treasure is hidden at:\\n{row1}\\n{row2}\\n{row3}\")"
      ],
      "metadata": {
        "id": "5a_2uu25BLl5",
        "colab": {
          "base_uri": "https://localhost:8080/"
        },
        "outputId": "4eb3cd1a-cae2-43f1-dbca-c99e38ffa369"
      },
      "execution_count": null,
      "outputs": [
        {
          "output_type": "stream",
          "name": "stdout",
          "text": [
            "['😀', '😄', '😁']\n",
            "['😆', '😅', '😂']\n",
            "['😫', '😩', '🥺']\n",
            "where do you want to put the treasure? 23\n",
            "your treasure is hidden at:\n",
            "['😀', '😄', '😁']\n",
            "['😆', '😅', 'x']\n",
            "['😫', '😩', '🥺']\n"
          ]
        }
      ]
    },
    {
      "cell_type": "markdown",
      "source": [
        "day 4 final project"
      ],
      "metadata": {
        "id": "qWJZLGyj5lkK"
      }
    },
    {
      "cell_type": "code",
      "source": [
        "#rock paper scissors\n",
        "import random\n",
        "rock = '''\n",
        "    _______\n",
        "---'   ____)\n",
        "      (_____)\n",
        "      (_____)\n",
        "      (____)\n",
        "---.__(___)\n",
        "'''\n",
        "\n",
        "paper = '''\n",
        "    _______\n",
        "---'   ____)____\n",
        "          ______)\n",
        "          _______)\n",
        "         _______)\n",
        "---.__________)\n",
        "'''\n",
        "\n",
        "scissors = '''\n",
        "    _______\n",
        "---'   ____)____\n",
        "          ______)\n",
        "       __________)\n",
        "      (____)\n",
        "---.__(___)\n",
        "'''\n",
        "print(\"welcome to a game of rock, paper, scissors\")\n",
        "choice=int(input(\"what do you choose? type 0 for rock, 1 for paper or 2 for scissors \"))\n",
        "if choice==0:\n",
        "  print(f\"you chose:\\n{rock}\")\n",
        "elif choice==1:\n",
        "  print(f\"you chose:\\n{paper}\")\n",
        "elif choice==2:\n",
        "  print(f\"you chose:\\n{scissors}\")\n",
        "random_choice=random.randint(0,2)\n",
        "if random_choice==0:\n",
        "  print(f\"the computer chose: \\n{rock}\")\n",
        "elif random_choice==1:\n",
        "  print(f\"the computer chose:\\n {paper}\")\n",
        "elif random_choice==2:\n",
        "  print(f\"the computer chose:\\n{scissors}\")\n",
        "if random_choice==0 and choice==2:\n",
        "  print(\"you lose\")\n",
        "elif random_choice==2 and choice==1:\n",
        "  print(\"you lose\")\n",
        "elif random_choice==1 and choice==0:\n",
        "  print(\"you lose\")\n",
        "elif random_choice==choice:\n",
        "  print(\"draw\")\n",
        "else:\n",
        "  print(\"you win\")\n",
        "\n",
        "\n",
        "\n"
      ],
      "metadata": {
        "id": "yC0rRlvj8VUM",
        "colab": {
          "base_uri": "https://localhost:8080/"
        },
        "outputId": "ac700aa9-e19e-459d-c5e9-c36aa1d68457"
      },
      "execution_count": 12,
      "outputs": [
        {
          "output_type": "stream",
          "name": "stdout",
          "text": [
            "welcome to a game of rock, paper, scissors\n",
            "what do you choose? type 0 for rock, 1 for paper or 2 for scissors 1\n",
            "you chose:\n",
            "\n",
            "    _______\n",
            "---'   ____)____\n",
            "          ______)\n",
            "          _______)\n",
            "         _______)\n",
            "---.__________)\n",
            "\n",
            "the computer chose:\n",
            "\n",
            "    _______\n",
            "---'   ____)____\n",
            "          ______)\n",
            "       __________)\n",
            "      (____)\n",
            "---.__(___)\n",
            "\n",
            "you lose\n"
          ]
        }
      ]
    },
    {
      "cell_type": "code",
      "source": [],
      "metadata": {
        "id": "15Gq0VoI4y6g"
      },
      "execution_count": null,
      "outputs": []
    },
    {
      "cell_type": "markdown",
      "source": [
        "# New Section"
      ],
      "metadata": {
        "id": "rAY9Ft9bxa_f"
      }
    }
  ]
}