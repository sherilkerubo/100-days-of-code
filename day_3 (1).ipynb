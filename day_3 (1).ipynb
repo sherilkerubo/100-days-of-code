{
  "nbformat": 4,
  "nbformat_minor": 0,
  "metadata": {
    "colab": {
      "provenance": []
    },
    "kernelspec": {
      "name": "python3",
      "display_name": "Python 3"
    },
    "language_info": {
      "name": "python"
    }
  },
  "cells": [
    {
      "cell_type": "code",
      "execution_count": null,
      "metadata": {
        "id": "cMZdwzk4aTw-"
      },
      "outputs": [],
      "source": []
    },
    {
      "cell_type": "code",
      "source": [
        "water_level=50\n",
        "if water_level>80:\n",
        "  print(\"drain water\")\n",
        "else:\n",
        "  print(\"continue\")"
      ],
      "metadata": {
        "colab": {
          "base_uri": "https://localhost:8080/"
        },
        "id": "tzorKYrxgGKp",
        "outputId": "a66cfaf3-0272-49fd-ffa6-e088974b1526"
      },
      "execution_count": null,
      "outputs": [
        {
          "output_type": "stream",
          "name": "stdout",
          "text": [
            "continue\n"
          ]
        }
      ]
    },
    {
      "cell_type": "code",
      "source": [
        "print(\"welcome to the rollercoaster\")\n",
        "height=int(input(\"what is your height in centimeters? \\n\"))\n",
        "if height>120:\n",
        "  print(\"you can get a ticket at the counter\")\n",
        "  age=int(input(\"how old are you? \"))\n",
        "  if age <12:\n",
        "    print(\"please pay $5\")\n",
        "    #elif statement\n",
        "  elif age<=18:\n",
        "      print(\"please pay $7\")\n",
        "  else:\n",
        "      print(\"please pay $12\")\n",
        "\n",
        "else:\n",
        "  print(\"you are not tall enough to ride\")\n"
      ],
      "metadata": {
        "colab": {
          "base_uri": "https://localhost:8080/"
        },
        "id": "kjmlcOlmg9BQ",
        "outputId": "c60598f5-558b-4aaf-bb45-6973ac654ebd"
      },
      "execution_count": null,
      "outputs": [
        {
          "output_type": "stream",
          "name": "stdout",
          "text": [
            "welcome to the rollercoaster\n",
            "what is your height in centimeters? \n",
            "130\n",
            "you can get a ticket at the counter\n",
            "how old are you? 34\n",
            "please pay $12\n"
          ]
        }
      ]
    },
    {
      "cell_type": "code",
      "source": [
        "#checking if a number id odd or even"
      ],
      "metadata": {
        "id": "snMc3hk_kGxo"
      },
      "execution_count": null,
      "outputs": []
    },
    {
      "cell_type": "code",
      "source": [
        "number=int(input(\"enter a number:\") )\n",
        "if number % 2==1:\n",
        "  print(\"the number is odd\")\n",
        "else:\n",
        "  print(\"the number is even\")"
      ],
      "metadata": {
        "colab": {
          "base_uri": "https://localhost:8080/"
        },
        "id": "zT-A3vVDkPf4",
        "outputId": "f8966f57-579f-4159-8f30-dcc1eb5a7224"
      },
      "execution_count": null,
      "outputs": [
        {
          "output_type": "stream",
          "name": "stdout",
          "text": [
            "enter a number:35\n",
            "the number is odd\n"
          ]
        }
      ]
    },
    {
      "cell_type": "code",
      "source": [
        "#day 3.2 BMI calculator\n"
      ],
      "metadata": {
        "id": "AIf2SValmS4r"
      },
      "execution_count": null,
      "outputs": []
    },
    {
      "cell_type": "code",
      "source": [
        "print(\"welcome to the BMI calcuator!\")\n",
        "height=float(input(\"what is your height in m? \"))\n",
        "weight=float(input(\"what is your weight in kg?\"))\n",
        "BMI =round(weight/height**2)\n",
        "print(f\"your BMI is:{BMI}\")\n",
        "if BMI<18.5:\n",
        "  print(\"you are underweight\")\n",
        "elif BMI<25:\n",
        "  print(\"you have normal weight\")\n",
        "elif BMI<30:\n",
        "  print(\"you are overweight\")\n",
        "elif BMI<35:\n",
        "  print(\"you are obese\")\n",
        "else:\n",
        "  print(\"you are clinically obese\")"
      ],
      "metadata": {
        "id": "0rGuFwsRpl_y",
        "colab": {
          "base_uri": "https://localhost:8080/"
        },
        "outputId": "260c92ac-bfc7-4c50-c940-a4c0e98b3f8d"
      },
      "execution_count": 5,
      "outputs": [
        {
          "output_type": "stream",
          "name": "stdout",
          "text": [
            "welcome to the BMI calcuator!\n",
            "what is your height in m? 1.7\n",
            "what is your weight in kg?120\n",
            "your BMI is:42\n",
            "you are clinically obese\n"
          ]
        }
      ]
    },
    {
      "cell_type": "code",
      "source": [
        "#determining whether a year is a leap year\n",
        "year=int(input(\"which year do you want to check? \"))\n",
        "if year %4 ==0:\n",
        "  if year%100 != 0 or year%400==0:\n",
        "    print(\"leap year\")\n",
        "  else:\n",
        "    print(\"not leap year\")\n",
        "else:\n",
        "  print(\"not leap year\")\n",
        "\n",
        "\n",
        "\n",
        "\n",
        "\n",
        "\n",
        ""
      ],
      "metadata": {
        "colab": {
          "base_uri": "https://localhost:8080/"
        },
        "id": "Wcdl2AuM7JD3",
        "outputId": "95713d08-e5ac-4c53-d9c6-4fd48bb9ae90"
      },
      "execution_count": 24,
      "outputs": [
        {
          "output_type": "stream",
          "name": "stdout",
          "text": [
            "which year do you want to check? 2012\n",
            "leap year\n"
          ]
        }
      ]
    },
    {
      "cell_type": "code",
      "source": [
        "print(\"welcome to the rollercoaster\")\n",
        "height=int(input(\"what is your height in centimeters? \\n\"))\n",
        "bill=0\n",
        "if height>120:\n",
        "  print(\"you can get a ticket at the counter\")\n",
        "  age=int(input(\"how old are you? \"))\n",
        "  if age <12:\n",
        "    bill=5\n",
        "    print(\"children's tickets are $5\")\n",
        "    #elif statement\n",
        "  elif age<=18:\n",
        "    bill=7\n",
        "    print(\"youth tickets are $7\")\n",
        "  elif age>=45 and age<=55:\n",
        "    print(\"you ride for free\")\n",
        "  else:\n",
        "    bill=12\n",
        "    print(\"adult tickets are 12 dollars\")\n",
        "  photo=input(\"Do you want a photo? Y or N\")\n",
        "\n",
        "  if photo==\"Y\":\n",
        "    bill += 3\n",
        "  print(f\"your final bill is {bill}\")\n",
        "\n",
        "\n",
        "\n",
        "\n",
        "else:\n",
        "  print(\"you are not tall enough to ride\")\n"
      ],
      "metadata": {
        "colab": {
          "base_uri": "https://localhost:8080/"
        },
        "id": "Twx-LyzNM46w",
        "outputId": "4b673357-fc6b-4106-f7af-da9f32f28d92"
      },
      "execution_count": 29,
      "outputs": [
        {
          "output_type": "stream",
          "name": "stdout",
          "text": [
            "welcome to the rollercoaster\n",
            "what is your height in centimeters? \n",
            "180\n",
            "you can get a ticket at the counter\n",
            "how old are you? 54\n",
            "you ride for free\n",
            "Do you want a photo? Y or Ny\n",
            "your final bill is 0\n"
          ]
        }
      ]
    },
    {
      "cell_type": "markdown",
      "source": [
        "pizza order program"
      ],
      "metadata": {
        "id": "dUhOlLcmOybF"
      }
    },
    {
      "cell_type": "code",
      "source": [
        "  print(\"Welcome to Python Pizza Delivery\")\n",
        "size = input(\"What size pizza do you want? S, M, or L? \")\n",
        "pepperoni = input(\"Do you want pepperoni? Y or N? \")\n",
        "cheese = input(\"Do you want extra cheese? Y or N? \")\n",
        "\n",
        "price = 0\n",
        "\n",
        "if size == \"s\":\n",
        "    price = 15\n",
        "    if pepperoni == \"y\":\n",
        "        price += 2\n",
        "\n",
        "if size == \"m\":\n",
        "    price = 20\n",
        "    if pepperoni == \"y\":\n",
        "        price += 3\n",
        "\n",
        "if size == \"l\":\n",
        "    price = 25\n",
        "    if pepperoni == \"y\":\n",
        "        price += 3\n",
        "\n",
        "if cheese == \"y\":\n",
        "    price += 1\n",
        "\n",
        "print(f\"The price for your pizza is: {price}\")\n",
        "\n",
        "\n"
      ],
      "metadata": {
        "colab": {
          "base_uri": "https://localhost:8080/"
        },
        "id": "gOUWUmbCO1fj",
        "outputId": "68eea1d2-3e7f-49ca-b69e-eeac813af544"
      },
      "execution_count": 13,
      "outputs": [
        {
          "output_type": "stream",
          "name": "stdout",
          "text": [
            "Welcome to Python Pizza Delivery\n",
            "What size pizza do you want? S, M, or L? l\n",
            "Do you want pepperoni? Y or N? y\n",
            "Do you want extra cheese? Y or N? y\n",
            "The price for your pizza is: 29\n"
          ]
        }
      ]
    },
    {
      "cell_type": "markdown",
      "source": [
        "treasure island -final project"
      ],
      "metadata": {
        "id": "p7MDeJgGqinI"
      }
    },
    {
      "cell_type": "code",
      "source": [
        "print(\"Welcome to treasure island. your mission if you choose to accept it is to find the treasure\")\n",
        "direction=input(\"you are at a crossroad, do you go left or right? \")\n",
        "if direction == \"left\":\n",
        "  river=input(\"you are at a lake do you wait for a boat or swim across?\")\n",
        "  if river==\"swim\":\n",
        "    print(\"the lake is full of crocodiles. game over\")\n",
        "  else:\n",
        "    door=input(\"you find three doors. which one do you choose? RED, Blue or yellow?\")\n",
        "    if door==\"yellow\":\n",
        "      print(\"treasure secured. You win!\")\n",
        "    else:\n",
        "      print(\"there's an ogre behind the door. you lose!\")\n",
        "else:\n",
        "  print(\"you come to a dead end. Game over!\")\n",
        "\n"
      ],
      "metadata": {
        "id": "UKhngPMJqvfZ",
        "outputId": "d977b2c5-7284-42c8-9458-9180211f3594",
        "colab": {
          "base_uri": "https://localhost:8080/"
        }
      },
      "execution_count": 33,
      "outputs": [
        {
          "output_type": "stream",
          "name": "stdout",
          "text": [
            "Welcome to treasure island. your mission if you choose to accept it is to find the treasure\n",
            "you are at a crossroad, do you go left or right? left\n",
            "you are at a lake do you wait for a boat or swim across?wait\n",
            "you find three doors. which one do you choose? RED, Blue or yellow?red\n",
            "there's an ogre behind the door. you lose!\n"
          ]
        }
      ]
    },
    {
      "cell_type": "code",
      "source": [],
      "metadata": {
        "id": "9oGNewrQOv63"
      },
      "execution_count": null,
      "outputs": []
    }
  ]
}