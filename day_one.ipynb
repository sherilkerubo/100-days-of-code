{
  "nbformat": 4,
  "nbformat_minor": 0,
  "metadata": {
    "colab": {
      "provenance": []
    },
    "kernelspec": {
      "name": "python3",
      "display_name": "Python 3"
    },
    "language_info": {
      "name": "python"
    }
  },
  "cells": [
    {
      "cell_type": "markdown",
      "source": [],
      "metadata": {
        "id": "a87AX8fF--BV"
      }
    },
    {
      "cell_type": "markdown",
      "source": [
        "the print function\n"
      ],
      "metadata": {
        "id": "0_TTz_mF_AHO"
      }
    },
    {
      "cell_type": "code",
      "execution_count": 1,
      "metadata": {
        "colab": {
          "base_uri": "https://localhost:8080/"
        },
        "id": "g4GTbDwwdNJE",
        "outputId": "ee660a2e-4a05-4b5c-f060-f2478c640f1a"
      },
      "outputs": [
        {
          "output_type": "stream",
          "name": "stdout",
          "text": [
            "hello world\n"
          ]
        }
      ],
      "source": [
        "print(\"hello world\")\n"
      ]
    },
    {
      "cell_type": "code",
      "source": [
        "print(\"Day 1 python print function\");\n",
        "print(\"The function is declared like this\");\n",
        "print(\"print('what to print')\")"
      ],
      "metadata": {
        "colab": {
          "base_uri": "https://localhost:8080/"
        },
        "id": "H_EGR_wnhxCj",
        "outputId": "6b85f8b5-1efc-446c-d6ca-63ee710666d7"
      },
      "execution_count": 2,
      "outputs": [
        {
          "output_type": "stream",
          "name": "stdout",
          "text": [
            "Day 1 python print function\n",
            "The function is declared like this\n",
            "print('what to print')\n"
          ]
        }
      ]
    },
    {
      "cell_type": "markdown",
      "source": [
        "string manipulation\n"
      ],
      "metadata": {
        "id": "_itouDE-kAHO"
      }
    },
    {
      "cell_type": "code",
      "source": [
        "print(\"Hello world!\\nHello world!\") # \\n writes the string on a new line"
      ],
      "metadata": {
        "colab": {
          "base_uri": "https://localhost:8080/"
        },
        "id": "zOLScxQSkDyL",
        "outputId": "104ebecb-9225-48a8-e7ee-f0eb6982b94c"
      },
      "execution_count": 4,
      "outputs": [
        {
          "output_type": "stream",
          "name": "stdout",
          "text": [
            "Hello world!\n",
            "Hello world!\n"
          ]
        }
      ]
    },
    {
      "cell_type": "code",
      "source": [
        "print(\"Hello\" + \" Angela\")#using the plus sign for concutenation"
      ],
      "metadata": {
        "colab": {
          "base_uri": "https://localhost:8080/"
        },
        "id": "91lZtigzlXF5",
        "outputId": "92d4c9a1-e62e-4803-b03b-c9bd353442a7"
      },
      "execution_count": 6,
      "outputs": [
        {
          "output_type": "stream",
          "name": "stdout",
          "text": [
            "Hello Angela\n"
          ]
        }
      ]
    },
    {
      "cell_type": "code",
      "source": [
        "print(\"Hello\" + \" \" + \"Angela\")"
      ],
      "metadata": {
        "colab": {
          "base_uri": "https://localhost:8080/"
        },
        "id": "W1PQ2_5jmlao",
        "outputId": "f971687b-1f8a-492e-bbd3-fe9d88822656"
      },
      "execution_count": 7,
      "outputs": [
        {
          "output_type": "stream",
          "name": "stdout",
          "text": [
            "Hello Angela\n"
          ]
        }
      ]
    },
    {
      "cell_type": "markdown",
      "source": [
        "input function\n"
      ],
      "metadata": {
        "id": "iQ_osrWCpWvy"
      }
    },
    {
      "cell_type": "code",
      "source": [
        "#user inputs data that is passed back into the code"
      ],
      "metadata": {
        "id": "igK2IA1lsWo9"
      },
      "execution_count": 15,
      "outputs": []
    },
    {
      "cell_type": "code",
      "source": [],
      "metadata": {
        "id": "f-JTJC6aumpM"
      },
      "execution_count": null,
      "outputs": []
    },
    {
      "cell_type": "code",
      "source": [
        "input(\"what is your name?\")# the entered data replaces this part of the code"
      ],
      "metadata": {
        "colab": {
          "base_uri": "https://localhost:8080/",
          "height": 53
        },
        "id": "E88ra0vipacw",
        "outputId": "d7bc2d3f-7489-4b9f-ad6a-0178248c2839"
      },
      "execution_count": 16,
      "outputs": [
        {
          "name": "stdout",
          "output_type": "stream",
          "text": [
            "what is your name?sheril\n"
          ]
        },
        {
          "output_type": "execute_result",
          "data": {
            "text/plain": [
              "'sheril'"
            ],
            "application/vnd.google.colaboratory.intrinsic+json": {
              "type": "string"
            }
          },
          "metadata": {},
          "execution_count": 16
        }
      ]
    },
    {
      "cell_type": "markdown",
      "source": [
        "combining print() and input()"
      ],
      "metadata": {
        "id": "TjS-Ncv_ttvv"
      }
    },
    {
      "cell_type": "code",
      "source": [
        "print(\"hello \" + input(\"what is your name?\") + \"!\") #input() is nested inside the print()function."
      ],
      "metadata": {
        "colab": {
          "base_uri": "https://localhost:8080/"
        },
        "id": "cusFH9ziqKIJ",
        "outputId": "e430398a-5a68-47ad-d322-b2ec27544f8a"
      },
      "execution_count": 17,
      "outputs": [
        {
          "output_type": "stream",
          "name": "stdout",
          "text": [
            "what is your name?sheril\n",
            "hello sheril!\n"
          ]
        }
      ]
    },
    {
      "cell_type": "code",
      "source": [
        ""
      ],
      "metadata": {
        "id": "ik8y7_8qvay9"
      },
      "execution_count": null,
      "outputs": []
    },
    {
      "cell_type": "markdown",
      "source": [],
      "metadata": {
        "id": "E5QEMIm0vYvo"
      }
    },
    {
      "cell_type": "markdown",
      "source": [],
      "metadata": {
        "id": "KHYcPM46-RPm"
      }
    },
    {
      "cell_type": "code",
      "source": [
        "#this code prints the number of characters in a name"
      ],
      "metadata": {
        "id": "CjXSf_l5yvfK"
      },
      "execution_count": null,
      "outputs": []
    },
    {
      "cell_type": "code",
      "source": [
        "print(len (input(\"what is your name? \")))\n",
        "#len() function is used to find length of a string."
      ],
      "metadata": {
        "colab": {
          "base_uri": "https://localhost:8080/"
        },
        "id": "hVX5x3vivXtA",
        "outputId": "6ef44014-02c5-4333-afd4-d120450245c6"
      },
      "execution_count": 21,
      "outputs": [
        {
          "output_type": "stream",
          "name": "stdout",
          "text": [
            "what is your name? mephistopheles\n",
            "14\n"
          ]
        }
      ]
    },
    {
      "cell_type": "code",
      "source": [
        "Variables\n"
      ],
      "metadata": {
        "id": "JrmjKliuz8Yp"
      },
      "execution_count": null,
      "outputs": []
    },
    {
      "cell_type": "code",
      "source": [
        "name = input(\"what is your name? \")#saved the data from input as name\n",
        "print(name)\n"
      ],
      "metadata": {
        "colab": {
          "base_uri": "https://localhost:8080/"
        },
        "id": "a-R6HD8j0BMz",
        "outputId": "dd376e0f-8cf6-486b-c3f7-2f14454f9bb6"
      },
      "execution_count": 22,
      "outputs": [
        {
          "output_type": "stream",
          "name": "stdout",
          "text": [
            "what is your name? sheril\n",
            "sheril\n"
          ]
        }
      ]
    },
    {
      "cell_type": "code",
      "source": [
        "name = input(\"what is your name? \")\n",
        "length = len(name)\n",
        "print(length)\n"
      ],
      "metadata": {
        "colab": {
          "base_uri": "https://localhost:8080/"
        },
        "id": "SqfUdtUL1M7p",
        "outputId": "2e35622e-0dcf-4183-aff5-3a06db43aaa1"
      },
      "execution_count": 23,
      "outputs": [
        {
          "output_type": "stream",
          "name": "stdout",
          "text": [
            "what is your name? sheril\n",
            "6\n"
          ]
        }
      ]
    },
    {
      "cell_type": "markdown",
      "source": [],
      "metadata": {
        "id": "y7tx5sgtp6Rs"
      }
    },
    {
      "cell_type": "markdown",
      "source": [
        "switching values of variables"
      ],
      "metadata": {
        "id": "lfmlu4Ut1qGJ"
      }
    },
    {
      "cell_type": "code",
      "source": [
        "\n",
        "a = input(\"enter value of a \")\n",
        "b = input(\"enter value of b \")\n",
        "print(a)\n",
        "print(b)\n",
        "c=a #introduce a third variable\n",
        "a=b\n",
        "b=c\n",
        "print(\"the value of a is: \" + a)\n",
        "print(\"the value of b is: \" + b)\n"
      ],
      "metadata": {
        "colab": {
          "base_uri": "https://localhost:8080/"
        },
        "id": "4MRlfQox18SR",
        "outputId": "3a1bb98f-15be-4cfd-e890-ab15f9694303"
      },
      "execution_count": 38,
      "outputs": [
        {
          "output_type": "stream",
          "name": "stdout",
          "text": [
            "enter value of a 5\n",
            "enter value of b 100\n",
            "5\n",
            "100\n",
            "the value of a is: 100\n",
            "the value of b is: 5\n"
          ]
        }
      ]
    },
    {
      "cell_type": "markdown",
      "source": [
        "DAY 1 FINAL PROJECT band name generator"
      ],
      "metadata": {
        "id": "_crxgKL868Iq"
      }
    },
    {
      "cell_type": "code",
      "source": [
        "\n",
        "print(\"welcome to the band name generator\\n\")\n",
        "name1=input(\"what city did you grow up in?\\n\")\n",
        "name2=input(\"what is your pet's name?\\n\")\n",
        "bandname= name1 +\" \" + name2\n",
        "print(\"your band name could be \" + bandname)"
      ],
      "metadata": {
        "colab": {
          "base_uri": "https://localhost:8080/"
        },
        "id": "Prk-OY896658",
        "outputId": "30735a13-b0a4-497c-d41c-d95ec3ea8fcd"
      },
      "execution_count": 37,
      "outputs": [
        {
          "output_type": "stream",
          "name": "stdout",
          "text": [
            "welcome to the band name generator\n",
            "\n",
            "what city did you grow up in?\n",
            "mempis\n",
            "what is your pet's name?\n",
            "tetris\n",
            "your band name could be mempis tetris\n"
          ]
        }
      ]
    }
  ]
}