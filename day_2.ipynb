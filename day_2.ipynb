{
  "nbformat": 4,
  "nbformat_minor": 0,
  "metadata": {
    "colab": {
      "provenance": []
    },
    "kernelspec": {
      "name": "python3",
      "display_name": "Python 3"
    },
    "language_info": {
      "name": "python"
    }
  },
  "cells": [
    {
      "cell_type": "code",
      "execution_count": null,
      "metadata": {
        "id": "ODqF6mjQE2zx"
      },
      "outputs": [],
      "source": []
    },
    {
      "cell_type": "markdown",
      "source": [
        "strings\n"
      ],
      "metadata": {
        "id": "lx2Nkz5OHOhl"
      }
    },
    {
      "cell_type": "code",
      "source": [
        "print(\"hello\"[0])#subscripting"
      ],
      "metadata": {
        "colab": {
          "base_uri": "https://localhost:8080/"
        },
        "id": "wEe2Uk62HRpd",
        "outputId": "67e26c76-7818-48bb-ceda-4153b5f7edb0"
      },
      "execution_count": 2,
      "outputs": [
        {
          "output_type": "stream",
          "name": "stdout",
          "text": [
            "h\n"
          ]
        }
      ]
    },
    {
      "cell_type": "markdown",
      "source": [
        "integer-whole number\n"
      ],
      "metadata": {
        "id": "jdoerkN3H8Ac"
      }
    },
    {
      "cell_type": "code",
      "source": [
        "print(123+123)"
      ],
      "metadata": {
        "colab": {
          "base_uri": "https://localhost:8080/"
        },
        "id": "aCqRfo86ICGK",
        "outputId": "985c337e-33cd-4247-fbf8-8964f7fb3246"
      },
      "execution_count": 3,
      "outputs": [
        {
          "output_type": "stream",
          "name": "stdout",
          "text": [
            "246\n"
          ]
        }
      ]
    },
    {
      "cell_type": "markdown",
      "source": [
        "boolean\n",
        "true/false"
      ],
      "metadata": {
        "id": "OdAwxFE8IRIG"
      }
    },
    {
      "cell_type": "code",
      "source": [
        "#the type function\n",
        "num_char=len(input(\"what is your name? \"))\n",
        "print(type(num_char))#identify the type of data\n",
        "#type casting\n",
        "new_num_char=str(num_char)#converting integer into a string\n"
      ],
      "metadata": {
        "colab": {
          "base_uri": "https://localhost:8080/"
        },
        "id": "MZ1yPxorIh3m",
        "outputId": "b8230f3e-7130-43a2-d946-6afd218f360a"
      },
      "execution_count": 4,
      "outputs": [
        {
          "output_type": "stream",
          "name": "stdout",
          "text": [
            "what is your name? briana\n",
            "<class 'int'>\n"
          ]
        }
      ]
    },
    {
      "cell_type": "code",
      "source": [
        "number=input(\"enter a two digit number:\")\n",
        "type(number)#finding out the data type\n",
        "num1= int(number[0])#converting first digit to an integer\n",
        "num2=int(number[1])#converting second digit to integer\n",
        "print(num1 + num2)\n",
        "\n"
      ],
      "metadata": {
        "colab": {
          "base_uri": "https://localhost:8080/"
        },
        "id": "N1af3rF7Mjpa",
        "outputId": "3075d075-e2cc-44d9-9684-3cffb362a713"
      },
      "execution_count": 9,
      "outputs": [
        {
          "output_type": "stream",
          "name": "stdout",
          "text": [
            "enter a two digit number:78\n",
            "15\n"
          ]
        }
      ]
    },
    {
      "cell_type": "code",
      "source": [
        "#bmi calculator\n",
        "h=input(\" height in m: \")\n",
        "w=input(\"weight in kg: \")\n",
        "#checking the data type\n",
        "type(h)\n",
        "type(w)\n",
        "bmi=int(w)/float(h)**2\n",
        "#convert bmi to an integer\n",
        "BMI=int(bmi)\n",
        "print(\"your bmi is \" + str(BMI))\n",
        "\n"
      ],
      "metadata": {
        "colab": {
          "base_uri": "https://localhost:8080/"
        },
        "id": "RFZbhNaDRplz",
        "outputId": "abbc2167-7f9e-4dbe-f9f7-308c52875043"
      },
      "execution_count": 18,
      "outputs": [
        {
          "output_type": "stream",
          "name": "stdout",
          "text": [
            " height in m: 1.70\n",
            "weight in kg: 65\n",
            "your bmi is 22\n"
          ]
        }
      ]
    },
    {
      "cell_type": "markdown",
      "source": [
        "The round() function"
      ],
      "metadata": {
        "id": "woOJnUnJVUyw"
      }
    },
    {
      "cell_type": "code",
      "source": [
        "print(round(8/3, 2))#specifying the number of digits of precision to round of to"
      ],
      "metadata": {
        "colab": {
          "base_uri": "https://localhost:8080/"
        },
        "id": "qtLQE4nwVZuw",
        "outputId": "ef45dc06-35f7-4148-baba-559cb7cd56e3"
      },
      "execution_count": 19,
      "outputs": [
        {
          "output_type": "stream",
          "name": "stdout",
          "text": [
            "2.67\n"
          ]
        }
      ]
    },
    {
      "cell_type": "code",
      "source": [
        "round(9.66667,2)"
      ],
      "metadata": {
        "colab": {
          "base_uri": "https://localhost:8080/"
        },
        "id": "Bf54LvuJV5gR",
        "outputId": "25b1e009-4263-4043-cf9a-92bffb626ee4"
      },
      "execution_count": 20,
      "outputs": [
        {
          "output_type": "execute_result",
          "data": {
            "text/plain": [
              "9.67"
            ]
          },
          "metadata": {},
          "execution_count": 20
        }
      ]
    },
    {
      "cell_type": "markdown",
      "source": [
        "the floor division\n"
      ],
      "metadata": {
        "id": "CGMqrq3wWCLh"
      }
    },
    {
      "cell_type": "code",
      "source": [
        "#the result is always an integer"
      ],
      "metadata": {
        "id": "JRoDodbBWlU1"
      },
      "execution_count": null,
      "outputs": []
    },
    {
      "cell_type": "code",
      "source": [
        "print(8//3)"
      ],
      "metadata": {
        "colab": {
          "base_uri": "https://localhost:8080/"
        },
        "id": "aXQw9E2aWL62",
        "outputId": "6cdb6b19-b394-460a-fddb-4d6b9bdeb910"
      },
      "execution_count": 21,
      "outputs": [
        {
          "output_type": "stream",
          "name": "stdout",
          "text": [
            "2\n"
          ]
        }
      ]
    },
    {
      "cell_type": "markdown",
      "source": [
        "F strings\n"
      ],
      "metadata": {
        "id": "cwRt4vpKXdM-"
      }
    },
    {
      "cell_type": "code",
      "source": [
        "score=0\n",
        "height=1.80\n",
        "iswinning = True\n",
        "#fstring\n",
        "print(f\"your score is {score}, your height is {height} you are winning {iswinning} \")"
      ],
      "metadata": {
        "colab": {
          "base_uri": "https://localhost:8080/"
        },
        "id": "yJiHGbugXsPG",
        "outputId": "effb87df-c1f4-437f-acab-e4b0d9ef2757"
      },
      "execution_count": 24,
      "outputs": [
        {
          "output_type": "stream",
          "name": "stdout",
          "text": [
            "your score is 0, your height is 1.8 you are winning True \n"
          ]
        }
      ]
    },
    {
      "cell_type": "markdown",
      "source": [
        " Age in weeks challenge\n",
        ""
      ],
      "metadata": {
        "id": "0pWzXRXeZPkr"
      }
    },
    {
      "cell_type": "code",
      "source": [
        "current_age=input(\"what is your current age?\\n\")\n",
        "years_left= 90-int(current_age)\n",
        "age_in_months=years_left*12\n",
        "age_in_weeks=years_left*52\n",
        "age_in_days=years_left*365\n",
        "print(f\"you have {age_in_days} days , you have {age_in_weeks} weeks , you have {age_in_months} months   \")"
      ],
      "metadata": {
        "colab": {
          "base_uri": "https://localhost:8080/"
        },
        "id": "MKITj33qZ3dg",
        "outputId": "382a26d7-f13b-44ba-a896-f323a71b1642"
      },
      "execution_count": 28,
      "outputs": [
        {
          "output_type": "stream",
          "name": "stdout",
          "text": [
            "what is your current age?\n",
            "77\n",
            "you have 4745 days , you have 676 weeks , you have 156 months  \n"
          ]
        }
      ]
    },
    {
      "cell_type": "markdown",
      "source": [
        "DAY 2 FINAL PROJECT:Tip calculator"
      ],
      "metadata": {
        "id": "dJhK_onYdaLD"
      }
    },
    {
      "cell_type": "code",
      "source": [
        "print(\"welcome to the tip calculator\")\n",
        "bill=float(input(\"what was your total bill? \"))\n",
        "tip=int(input(\"what percentage tip would you like to give? 10, 12 or 15?\"))\n",
        "people=int(input(\"how many people will be splitting the bill? \"))\n",
        "total_bill=bill*(1+tip/100)\n",
        "splitbill=round(total_bill/people ,2)\n",
        "print(f\"each person should pay:{splitbill}\")\n",
        "\n",
        "\n"
      ],
      "metadata": {
        "colab": {
          "base_uri": "https://localhost:8080/"
        },
        "id": "JawkLjAeexSr",
        "outputId": "60f3e6b5-5f42-4a02-a7b8-60a6140c94b5"
      },
      "execution_count": 39,
      "outputs": [
        {
          "output_type": "stream",
          "name": "stdout",
          "text": [
            "welcome to the tip calculator\n",
            "what was your total bill? 120\n",
            "what percentage tip would you like to give? 10, 12 or 15?10\n",
            "how many people will be splitting the bill? 3\n",
            "each person should pay:44.0\n"
          ]
        }
      ]
    }
  ]
}