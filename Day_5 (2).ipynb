{
  "nbformat": 4,
  "nbformat_minor": 0,
  "metadata": {
    "colab": {
      "provenance": []
    },
    "kernelspec": {
      "name": "python3",
      "display_name": "Python 3"
    },
    "language_info": {
      "name": "python"
    }
  },
  "cells": [
    {
      "cell_type": "code",
      "execution_count": null,
      "metadata": {
        "colab": {
          "base_uri": "https://localhost:8080/"
        },
        "id": "7o2qNrhetVy_",
        "outputId": "ef2aec25-179e-4449-9cdf-1d0aa1a89894"
      },
      "outputs": [
        {
          "output_type": "stream",
          "name": "stdout",
          "text": [
            "apple\n",
            "apple pie\n",
            "peach\n",
            "peach pie\n",
            "pear\n",
            "pear pie\n"
          ]
        }
      ],
      "source": [
        "#using for loops with lists\n",
        "fruits=[\"apple\",\"peach\",\"pear\"]\n",
        "for fruit in fruits:\n",
        "  print(fruit)\n",
        "  print(fruit+\" \"+ \"pie\")"
      ]
    },
    {
      "cell_type": "code",
      "source": [
        "#the  range function\n",
        "for number in range(1, 12, 3):\n",
        "   print(number)\n"
      ],
      "metadata": {
        "colab": {
          "base_uri": "https://localhost:8080/"
        },
        "id": "DcHi5z4fKI0q",
        "outputId": "5264e76a-073c-49da-c8a5-50fc9bd6ede8"
      },
      "execution_count": 15,
      "outputs": [
        {
          "output_type": "stream",
          "name": "stdout",
          "text": [
            "1\n",
            "4\n",
            "7\n",
            "10\n"
          ]
        }
      ]
    },
    {
      "cell_type": "code",
      "source": [
        "#finding the sum of numbers between 1 and 100\n",
        "sum=0\n",
        "for number in range(1, 101):\n",
        "  sum+=number\n",
        "\n",
        "\n",
        "print(sum)"
      ],
      "metadata": {
        "colab": {
          "base_uri": "https://localhost:8080/"
        },
        "id": "kEQm4KJfKgb6",
        "outputId": "00b04b47-e5c9-406f-cbff-04c1353cc598"
      },
      "execution_count": 17,
      "outputs": [
        {
          "output_type": "stream",
          "name": "stdout",
          "text": [
            "5050\n"
          ]
        }
      ]
    },
    {
      "cell_type": "code",
      "source": [
        "#finding sum of all even numbers between 1 and 100\n",
        "sum=0\n",
        "for number in range(2,101, 2):\n",
        "  #print(number)\n",
        "  sum+=number\n",
        "print(sum)\n"
      ],
      "metadata": {
        "colab": {
          "base_uri": "https://localhost:8080/"
        },
        "id": "hvv93R4aNqqI",
        "outputId": "71a186d5-8ca9-4151-d748-4293e29c4f60"
      },
      "execution_count": 21,
      "outputs": [
        {
          "output_type": "stream",
          "name": "stdout",
          "text": [
            "2550\n"
          ]
        }
      ]
    },
    {
      "cell_type": "code",
      "source": [
        "#finding the highest number in a list\n",
        "student_scores=input(\"enter the student scores \").split()\n",
        "for n in range(0, len(student_scores)):\n",
        "  student_scores[n]=int(student_scores[n])\n",
        "highest=0\n",
        "for score in student_scores:\n",
        "  if score>highest:\n",
        "    highest=score\n",
        "print(f\"the highest score in the class is: {highest}\")\n",
        "\n"
      ],
      "metadata": {
        "colab": {
          "base_uri": "https://localhost:8080/"
        },
        "id": "uWrAq06ul3CQ",
        "outputId": "f3ba6f1f-e93b-4550-c805-c19913481948"
      },
      "execution_count": 6,
      "outputs": [
        {
          "output_type": "stream",
          "name": "stdout",
          "text": [
            "enter the student scores56 23 89 90 99 98 76\n",
            "the highest score in the class is: 99\n"
          ]
        }
      ]
    },
    {
      "cell_type": "code",
      "source": [
        "student_heights=input(\"enter a  list of student heights\").split()\n",
        "#the range function\n",
        "#this for loop is used to parse the student heights entered to integers\n",
        "for n in range(0,len(student_heights)):\n",
        "   student_heights[n]=int(student_heights[n])\n",
        "#print(student_heights)\n",
        "#finding the sum of the heights\n",
        "#this is how the sum() function works\n",
        "sum_of_heights=0\n",
        "for height in student_heights:\n",
        "   sum_of_heights += height\n",
        "#print(sum_of_heights)\n",
        "#how the len() function works\n",
        "\n",
        "total_students=0\n",
        "for student in student_heights :\n",
        "  total_students +=1\n",
        "average=sum_of_heights/total_students\n",
        "print(f\"the average height in class is: {average}\")\n",
        "\n",
        "\n",
        "\n",
        "\n",
        "#average=sum(heights)/len(heights)\n",
        "#print(f\"the average height is: {average}\")\n",
        "\n",
        "\n"
      ],
      "metadata": {
        "colab": {
          "base_uri": "https://localhost:8080/"
        },
        "id": "mbZzoNa_wrMa",
        "outputId": "c017a4b2-c34a-4788-be83-e25fbaf1203c"
      },
      "execution_count": 11,
      "outputs": [
        {
          "output_type": "stream",
          "name": "stdout",
          "text": [
            "enter a  list of student heights189 171 167 190 171 183\n",
            "[189, 171, 167, 190, 171, 183]\n",
            "the average height in class is: 178.5\n"
          ]
        }
      ]
    },
    {
      "cell_type": "code",
      "source": [
        "#the fizzbuzz\n",
        "for number in range(1,101):\n",
        "  if number%3==0 and number %5==0:\n",
        "    print(\"fizzbuzz\")\n",
        "  elif number%3==0:\n",
        "    print(\"fizz\")\n",
        "  elif number% 5==0:\n",
        "    print(\"buzz\")\n",
        "  else:\n",
        "    print(number)\n",
        "\n",
        "\n",
        "\n",
        ""
      ],
      "metadata": {
        "colab": {
          "base_uri": "https://localhost:8080/"
        },
        "id": "5irenmEqpP0e",
        "outputId": "27b8381d-fd8b-4136-b1c2-ae2d70864ea4"
      },
      "execution_count": 14,
      "outputs": [
        {
          "output_type": "stream",
          "name": "stdout",
          "text": [
            "1\n",
            "2\n",
            "fizz\n",
            "4\n",
            "buzz\n",
            "fizz\n",
            "7\n",
            "8\n",
            "fizz\n",
            "buzz\n",
            "11\n",
            "fizz\n",
            "13\n",
            "14\n",
            "fizzbuzz\n",
            "16\n",
            "17\n",
            "fizz\n",
            "19\n",
            "buzz\n",
            "fizz\n",
            "22\n",
            "23\n",
            "fizz\n",
            "buzz\n",
            "26\n",
            "fizz\n",
            "28\n",
            "29\n",
            "fizzbuzz\n",
            "31\n",
            "32\n",
            "fizz\n",
            "34\n",
            "buzz\n",
            "fizz\n",
            "37\n",
            "38\n",
            "fizz\n",
            "buzz\n",
            "41\n",
            "fizz\n",
            "43\n",
            "44\n",
            "fizzbuzz\n",
            "46\n",
            "47\n",
            "fizz\n",
            "49\n",
            "buzz\n",
            "fizz\n",
            "52\n",
            "53\n",
            "fizz\n",
            "buzz\n",
            "56\n",
            "fizz\n",
            "58\n",
            "59\n",
            "fizzbuzz\n",
            "61\n",
            "62\n",
            "fizz\n",
            "64\n",
            "buzz\n",
            "fizz\n",
            "67\n",
            "68\n",
            "fizz\n",
            "buzz\n",
            "71\n",
            "fizz\n",
            "73\n",
            "74\n",
            "fizzbuzz\n",
            "76\n",
            "77\n",
            "fizz\n",
            "79\n",
            "buzz\n",
            "fizz\n",
            "82\n",
            "83\n",
            "fizz\n",
            "buzz\n",
            "86\n",
            "fizz\n",
            "88\n",
            "89\n",
            "fizzbuzz\n",
            "91\n",
            "92\n",
            "fizz\n",
            "94\n",
            "buzz\n",
            "fizz\n",
            "97\n",
            "98\n",
            "fizz\n",
            "buzz\n"
          ]
        }
      ]
    },
    {
      "cell_type": "code",
      "source": [],
      "metadata": {
        "id": "m508USinsXgA"
      },
      "execution_count": null,
      "outputs": []
    },
    {
      "cell_type": "code",
      "source": [],
      "metadata": {
        "id": "dnghOf6tp3ad"
      },
      "execution_count": null,
      "outputs": []
    }
  ]
}